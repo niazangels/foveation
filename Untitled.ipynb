{
 "cells": [
  {
   "cell_type": "code",
   "execution_count": 1,
   "id": "03408bbb-49d2-4847-ac3a-8b639f6bfa8d",
   "metadata": {},
   "outputs": [],
   "source": [
    "story = \"\"\"\n",
    "A shoemaker, by no fault of his own, became so poor that at last he had nothing left but enough leather for one pair of shoes. So in the evening, he cut the leather into the shape of the shoes, and he left his work on the table to finish in the morning. He lay down quietly in his bed, and before he fell asleep he asked God to help him.\n",
    "\n",
    "In the morning, just as he was about to sit down to work, he saw the two shoes standing quite finished on his table. He was astounded, and did not know what to make of it. He took the shoes in his hands to look at them more closely and he saw that they were so neatly made that there was not one bad stitch in them. It was just as if they were intended as a masterpiece.\n",
    "\n",
    "Soon after, a customer came in to the shop, and as the shoes pleased him so well, he paid more than the usual price. Now the shoemaker had enough money to buy leather for two pairs of shoes.\n",
    "\n",
    "That night, he cut out the leather, and the next morning he was about to set to work with fresh hope for the future when he saw that the shoes were already made. There was no shortage of customers who wanted the shoes, and the shoemaker soon had enough to buy leather for four pairs of shoes.\n",
    "\n",
    "The following morning he found the four pairs were made – and so it went on; any leather that he cut out in the evening was finished by the morning. Soon he was no longer poor, and he even became quite rich.\n",
    "\n",
    "Now one evening, not long before Christmas, the man finished cutting out the leather as usual. This time he said to his wife: “Let’s stay up tonight to see who it is that lends us this helping hand?”\n",
    "\n",
    "The woman liked the idea, and lighted a candle. Then they hid themselves in a corner of the room behind some clothes which were hanging up there, and watched.\n",
    "\n",
    "When it was midnight, two little elves came into the room, both without any clothes on, and sat down by the shoemaker’s table. They took all the work which was cut out before them and began to stitch, sew, and hammer so skillfully and so quickly with their little fingers that the shoemaker could not turn away his eyes for astonishment. They did not stop until all was done and stood finished on the table, and then they ran quickly away.\n",
    "\n",
    "The next morning the woman said: “The little men have made us rich, and we really must show that we are grateful for it. They run about so, but have nothing on, and must be cold. I’ll tell you what I’ll do: I will make them little shirts, coats, vests, and trousers, and knit both of them a pair of stockings. You can help too – make them two little pairs of shoes.”\n",
    "\n",
    "The man said: “I shall be very glad to do it.” One night, when everything was ready, they laid their presents altogether on the table instead of the cut out work. Then they hid themselves to see what the little men would do.\n",
    "\n",
    "At midnight they came bounding in, wanting to get to work at once, but as they did not find any leather cut out, but only the pretty little articles of clothing, they were at first puzzled – and then delighted. They dressed themselves very quickly, putting the pretty clothes on, and singing,\n",
    "\n",
    "“Now we are boys so fine to see,\n",
    "Why should we longer cobblers be?”\n",
    "\n",
    "They danced and skipped and leaped over chairs and benches. At last they danced out of the doors. From that time on they came no more, but as long as the shoemaker lived, all went well with him, and all his business prospered.\n",
    "\"\"\""
   ]
  },
  {
   "cell_type": "code",
   "execution_count": 2,
   "id": "36eba92f-64d2-45a6-a616-ea243a12510d",
   "metadata": {},
   "outputs": [],
   "source": [
    "paras = [x.strip() for x in story.split(\"\\n\\n\")]"
   ]
  },
  {
   "cell_type": "code",
   "execution_count": 3,
   "id": "5036db96-d02e-4f92-a08a-e310ce821050",
   "metadata": {},
   "outputs": [],
   "source": [
    "first_para = paras[0]"
   ]
  },
  {
   "cell_type": "code",
   "execution_count": null,
   "id": "265671e4",
   "metadata": {},
   "outputs": [],
   "source": []
  },
  {
   "cell_type": "code",
   "execution_count": 4,
   "id": "5b7b5153",
   "metadata": {},
   "outputs": [
    {
     "ename": "SyntaxError",
     "evalue": "invalid syntax (1271655573.py, line 1)",
     "output_type": "error",
     "traceback": [
      "\u001b[0;36m  Cell \u001b[0;32mIn[4], line 1\u001b[0;36m\u001b[0m\n\u001b[0;31m    <p>\u001b[0m\n\u001b[0m    ^\u001b[0m\n\u001b[0;31mSyntaxError\u001b[0m\u001b[0;31m:\u001b[0m invalid syntax\n"
     ]
    }
   ],
   "source": [
    "\"\"\"\n",
    "<p>\n",
    "A shoemaker, <span class=\"highlight\" data-importance=\"90\">by no fault of his own, became so poor that at last he had nothing left but enough leather for one pair of shoes</span>. So in the evening, he cut the leather into the shape of the shoes, and he left his work on the table to finish in the morning. He lay down quietly in his bed, and <span class=\"highlight\" data-importance=\"80\">before he fell asleep he asked God to help him</span>.</p>"
   ]
  }
 ],
 "metadata": {
  "kernelspec": {
   "display_name": "Python 3 (ipykernel)",
   "language": "python",
   "name": "python3"
  },
  "language_info": {
   "codemirror_mode": {
    "name": "ipython",
    "version": 3
   },
   "file_extension": ".py",
   "mimetype": "text/x-python",
   "name": "python",
   "nbconvert_exporter": "python",
   "pygments_lexer": "ipython3",
   "version": "3.12.5"
  }
 },
 "nbformat": 4,
 "nbformat_minor": 5
}
